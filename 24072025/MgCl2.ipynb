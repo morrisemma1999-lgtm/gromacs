{
 "cells": [
  {
   "cell_type": "code",
   "execution_count": 1,
   "id": "8f547b4f-c067-40d5-944a-5aa207a7a3f8",
   "metadata": {
    "scrolled": true
   },
   "outputs": [
    {
     "name": "stdout",
     "output_type": "stream",
     "text": [
      "Requirement already satisfied: nglview in /opt/anaconda3/lib/python3.13/site-packages (3.1.4)\n",
      "Requirement already satisfied: ipywidgets>=8 in /opt/anaconda3/lib/python3.13/site-packages (from nglview) (8.1.5)\n",
      "Requirement already satisfied: notebook>=7 in /opt/anaconda3/lib/python3.13/site-packages (from nglview) (7.3.2)\n",
      "Requirement already satisfied: jupyterlab>=3 in /opt/anaconda3/lib/python3.13/site-packages (from nglview) (4.3.4)\n",
      "Requirement already satisfied: jupyterlab_widgets in /opt/anaconda3/lib/python3.13/site-packages (from nglview) (3.0.13)\n",
      "Requirement already satisfied: numpy in /opt/anaconda3/lib/python3.13/site-packages (from nglview) (2.1.3)\n",
      "Requirement already satisfied: comm>=0.1.3 in /opt/anaconda3/lib/python3.13/site-packages (from ipywidgets>=8->nglview) (0.2.1)\n",
      "Requirement already satisfied: ipython>=6.1.0 in /opt/anaconda3/lib/python3.13/site-packages (from ipywidgets>=8->nglview) (8.30.0)\n",
      "Requirement already satisfied: traitlets>=4.3.1 in /opt/anaconda3/lib/python3.13/site-packages (from ipywidgets>=8->nglview) (5.14.3)\n",
      "Requirement already satisfied: widgetsnbextension~=4.0.12 in /opt/anaconda3/lib/python3.13/site-packages (from ipywidgets>=8->nglview) (4.0.13)\n",
      "Requirement already satisfied: decorator in /opt/anaconda3/lib/python3.13/site-packages (from ipython>=6.1.0->ipywidgets>=8->nglview) (5.1.1)\n",
      "Requirement already satisfied: jedi>=0.16 in /opt/anaconda3/lib/python3.13/site-packages (from ipython>=6.1.0->ipywidgets>=8->nglview) (0.19.2)\n",
      "Requirement already satisfied: matplotlib-inline in /opt/anaconda3/lib/python3.13/site-packages (from ipython>=6.1.0->ipywidgets>=8->nglview) (0.1.6)\n",
      "Requirement already satisfied: prompt-toolkit<3.1.0,>=3.0.41 in /opt/anaconda3/lib/python3.13/site-packages (from ipython>=6.1.0->ipywidgets>=8->nglview) (3.0.43)\n",
      "Requirement already satisfied: pygments>=2.4.0 in /opt/anaconda3/lib/python3.13/site-packages (from ipython>=6.1.0->ipywidgets>=8->nglview) (2.19.1)\n",
      "Requirement already satisfied: stack-data in /opt/anaconda3/lib/python3.13/site-packages (from ipython>=6.1.0->ipywidgets>=8->nglview) (0.2.0)\n",
      "Requirement already satisfied: pexpect>4.3 in /opt/anaconda3/lib/python3.13/site-packages (from ipython>=6.1.0->ipywidgets>=8->nglview) (4.8.0)\n",
      "Requirement already satisfied: wcwidth in /opt/anaconda3/lib/python3.13/site-packages (from prompt-toolkit<3.1.0,>=3.0.41->ipython>=6.1.0->ipywidgets>=8->nglview) (0.2.5)\n",
      "Requirement already satisfied: parso<0.9.0,>=0.8.4 in /opt/anaconda3/lib/python3.13/site-packages (from jedi>=0.16->ipython>=6.1.0->ipywidgets>=8->nglview) (0.8.4)\n",
      "Requirement already satisfied: async-lru>=1.0.0 in /opt/anaconda3/lib/python3.13/site-packages (from jupyterlab>=3->nglview) (2.0.4)\n",
      "Requirement already satisfied: httpx>=0.25.0 in /opt/anaconda3/lib/python3.13/site-packages (from jupyterlab>=3->nglview) (0.28.1)\n",
      "Requirement already satisfied: ipykernel>=6.5.0 in /opt/anaconda3/lib/python3.13/site-packages (from jupyterlab>=3->nglview) (6.29.5)\n",
      "Requirement already satisfied: jinja2>=3.0.3 in /opt/anaconda3/lib/python3.13/site-packages (from jupyterlab>=3->nglview) (3.1.6)\n",
      "Requirement already satisfied: jupyter-core in /opt/anaconda3/lib/python3.13/site-packages (from jupyterlab>=3->nglview) (5.7.2)\n",
      "Requirement already satisfied: jupyter-lsp>=2.0.0 in /opt/anaconda3/lib/python3.13/site-packages (from jupyterlab>=3->nglview) (2.2.5)\n",
      "Requirement already satisfied: jupyter-server<3,>=2.4.0 in /opt/anaconda3/lib/python3.13/site-packages (from jupyterlab>=3->nglview) (2.15.0)\n",
      "Requirement already satisfied: jupyterlab-server<3,>=2.27.1 in /opt/anaconda3/lib/python3.13/site-packages (from jupyterlab>=3->nglview) (2.27.3)\n",
      "Requirement already satisfied: notebook-shim>=0.2 in /opt/anaconda3/lib/python3.13/site-packages (from jupyterlab>=3->nglview) (0.2.4)\n",
      "Requirement already satisfied: packaging in /opt/anaconda3/lib/python3.13/site-packages (from jupyterlab>=3->nglview) (24.2)\n",
      "Requirement already satisfied: setuptools>=40.8.0 in /opt/anaconda3/lib/python3.13/site-packages (from jupyterlab>=3->nglview) (72.1.0)\n",
      "Requirement already satisfied: tornado>=6.2.0 in /opt/anaconda3/lib/python3.13/site-packages (from jupyterlab>=3->nglview) (6.5.1)\n",
      "Requirement already satisfied: anyio>=3.1.0 in /opt/anaconda3/lib/python3.13/site-packages (from jupyter-server<3,>=2.4.0->jupyterlab>=3->nglview) (4.7.0)\n",
      "Requirement already satisfied: argon2-cffi>=21.1 in /opt/anaconda3/lib/python3.13/site-packages (from jupyter-server<3,>=2.4.0->jupyterlab>=3->nglview) (21.3.0)\n",
      "Requirement already satisfied: jupyter-client>=7.4.4 in /opt/anaconda3/lib/python3.13/site-packages (from jupyter-server<3,>=2.4.0->jupyterlab>=3->nglview) (8.6.3)\n",
      "Requirement already satisfied: jupyter-events>=0.11.0 in /opt/anaconda3/lib/python3.13/site-packages (from jupyter-server<3,>=2.4.0->jupyterlab>=3->nglview) (0.12.0)\n",
      "Requirement already satisfied: jupyter-server-terminals>=0.4.4 in /opt/anaconda3/lib/python3.13/site-packages (from jupyter-server<3,>=2.4.0->jupyterlab>=3->nglview) (0.5.3)\n",
      "Requirement already satisfied: nbconvert>=6.4.4 in /opt/anaconda3/lib/python3.13/site-packages (from jupyter-server<3,>=2.4.0->jupyterlab>=3->nglview) (7.16.6)\n",
      "Requirement already satisfied: nbformat>=5.3.0 in /opt/anaconda3/lib/python3.13/site-packages (from jupyter-server<3,>=2.4.0->jupyterlab>=3->nglview) (5.10.4)\n",
      "Requirement already satisfied: overrides>=5.0 in /opt/anaconda3/lib/python3.13/site-packages (from jupyter-server<3,>=2.4.0->jupyterlab>=3->nglview) (7.4.0)\n",
      "Requirement already satisfied: prometheus-client>=0.9 in /opt/anaconda3/lib/python3.13/site-packages (from jupyter-server<3,>=2.4.0->jupyterlab>=3->nglview) (0.21.1)\n",
      "Requirement already satisfied: pyzmq>=24 in /opt/anaconda3/lib/python3.13/site-packages (from jupyter-server<3,>=2.4.0->jupyterlab>=3->nglview) (26.2.0)\n",
      "Requirement already satisfied: send2trash>=1.8.2 in /opt/anaconda3/lib/python3.13/site-packages (from jupyter-server<3,>=2.4.0->jupyterlab>=3->nglview) (1.8.2)\n",
      "Requirement already satisfied: terminado>=0.8.3 in /opt/anaconda3/lib/python3.13/site-packages (from jupyter-server<3,>=2.4.0->jupyterlab>=3->nglview) (0.17.1)\n",
      "Requirement already satisfied: websocket-client>=1.7 in /opt/anaconda3/lib/python3.13/site-packages (from jupyter-server<3,>=2.4.0->jupyterlab>=3->nglview) (1.8.0)\n",
      "Requirement already satisfied: babel>=2.10 in /opt/anaconda3/lib/python3.13/site-packages (from jupyterlab-server<3,>=2.27.1->jupyterlab>=3->nglview) (2.16.0)\n",
      "Requirement already satisfied: json5>=0.9.0 in /opt/anaconda3/lib/python3.13/site-packages (from jupyterlab-server<3,>=2.27.1->jupyterlab>=3->nglview) (0.9.25)\n",
      "Requirement already satisfied: jsonschema>=4.18.0 in /opt/anaconda3/lib/python3.13/site-packages (from jupyterlab-server<3,>=2.27.1->jupyterlab>=3->nglview) (4.23.0)\n",
      "Requirement already satisfied: requests>=2.31 in /opt/anaconda3/lib/python3.13/site-packages (from jupyterlab-server<3,>=2.27.1->jupyterlab>=3->nglview) (2.32.3)\n",
      "Requirement already satisfied: idna>=2.8 in /opt/anaconda3/lib/python3.13/site-packages (from anyio>=3.1.0->jupyter-server<3,>=2.4.0->jupyterlab>=3->nglview) (3.7)\n",
      "Requirement already satisfied: sniffio>=1.1 in /opt/anaconda3/lib/python3.13/site-packages (from anyio>=3.1.0->jupyter-server<3,>=2.4.0->jupyterlab>=3->nglview) (1.3.0)\n",
      "Requirement already satisfied: argon2-cffi-bindings in /opt/anaconda3/lib/python3.13/site-packages (from argon2-cffi>=21.1->jupyter-server<3,>=2.4.0->jupyterlab>=3->nglview) (21.2.0)\n",
      "Requirement already satisfied: certifi in /opt/anaconda3/lib/python3.13/site-packages (from httpx>=0.25.0->jupyterlab>=3->nglview) (2025.6.15)\n",
      "Requirement already satisfied: httpcore==1.* in /opt/anaconda3/lib/python3.13/site-packages (from httpx>=0.25.0->jupyterlab>=3->nglview) (1.0.9)\n",
      "Requirement already satisfied: h11>=0.16 in /opt/anaconda3/lib/python3.13/site-packages (from httpcore==1.*->httpx>=0.25.0->jupyterlab>=3->nglview) (0.16.0)\n",
      "Requirement already satisfied: appnope in /opt/anaconda3/lib/python3.13/site-packages (from ipykernel>=6.5.0->jupyterlab>=3->nglview) (0.1.3)\n",
      "Requirement already satisfied: debugpy>=1.6.5 in /opt/anaconda3/lib/python3.13/site-packages (from ipykernel>=6.5.0->jupyterlab>=3->nglview) (1.8.11)\n",
      "Requirement already satisfied: nest-asyncio in /opt/anaconda3/lib/python3.13/site-packages (from ipykernel>=6.5.0->jupyterlab>=3->nglview) (1.6.0)\n",
      "Requirement already satisfied: psutil in /opt/anaconda3/lib/python3.13/site-packages (from ipykernel>=6.5.0->jupyterlab>=3->nglview) (5.9.0)\n",
      "Requirement already satisfied: MarkupSafe>=2.0 in /opt/anaconda3/lib/python3.13/site-packages (from jinja2>=3.0.3->jupyterlab>=3->nglview) (3.0.2)\n",
      "Requirement already satisfied: attrs>=22.2.0 in /opt/anaconda3/lib/python3.13/site-packages (from jsonschema>=4.18.0->jupyterlab-server<3,>=2.27.1->jupyterlab>=3->nglview) (24.3.0)\n",
      "Requirement already satisfied: jsonschema-specifications>=2023.03.6 in /opt/anaconda3/lib/python3.13/site-packages (from jsonschema>=4.18.0->jupyterlab-server<3,>=2.27.1->jupyterlab>=3->nglview) (2023.7.1)\n",
      "Requirement already satisfied: referencing>=0.28.4 in /opt/anaconda3/lib/python3.13/site-packages (from jsonschema>=4.18.0->jupyterlab-server<3,>=2.27.1->jupyterlab>=3->nglview) (0.30.2)\n",
      "Requirement already satisfied: rpds-py>=0.7.1 in /opt/anaconda3/lib/python3.13/site-packages (from jsonschema>=4.18.0->jupyterlab-server<3,>=2.27.1->jupyterlab>=3->nglview) (0.22.3)\n",
      "Requirement already satisfied: python-dateutil>=2.8.2 in /opt/anaconda3/lib/python3.13/site-packages (from jupyter-client>=7.4.4->jupyter-server<3,>=2.4.0->jupyterlab>=3->nglview) (2.9.0.post0)\n",
      "Requirement already satisfied: platformdirs>=2.5 in /opt/anaconda3/lib/python3.13/site-packages (from jupyter-core->jupyterlab>=3->nglview) (4.3.7)\n",
      "Requirement already satisfied: python-json-logger>=2.0.4 in /opt/anaconda3/lib/python3.13/site-packages (from jupyter-events>=0.11.0->jupyter-server<3,>=2.4.0->jupyterlab>=3->nglview) (3.2.1)\n",
      "Requirement already satisfied: pyyaml>=5.3 in /opt/anaconda3/lib/python3.13/site-packages (from jupyter-events>=0.11.0->jupyter-server<3,>=2.4.0->jupyterlab>=3->nglview) (6.0.2)\n",
      "Requirement already satisfied: rfc3339-validator in /opt/anaconda3/lib/python3.13/site-packages (from jupyter-events>=0.11.0->jupyter-server<3,>=2.4.0->jupyterlab>=3->nglview) (0.1.4)\n",
      "Requirement already satisfied: rfc3986-validator>=0.1.1 in /opt/anaconda3/lib/python3.13/site-packages (from jupyter-events>=0.11.0->jupyter-server<3,>=2.4.0->jupyterlab>=3->nglview) (0.1.1)\n",
      "Requirement already satisfied: fqdn in /opt/anaconda3/lib/python3.13/site-packages (from jsonschema[format-nongpl]>=4.18.0->jupyter-events>=0.11.0->jupyter-server<3,>=2.4.0->jupyterlab>=3->nglview) (1.5.1)\n",
      "Requirement already satisfied: isoduration in /opt/anaconda3/lib/python3.13/site-packages (from jsonschema[format-nongpl]>=4.18.0->jupyter-events>=0.11.0->jupyter-server<3,>=2.4.0->jupyterlab>=3->nglview) (20.11.0)\n",
      "Requirement already satisfied: jsonpointer>1.13 in /opt/anaconda3/lib/python3.13/site-packages (from jsonschema[format-nongpl]>=4.18.0->jupyter-events>=0.11.0->jupyter-server<3,>=2.4.0->jupyterlab>=3->nglview) (2.1)\n",
      "Requirement already satisfied: uri-template in /opt/anaconda3/lib/python3.13/site-packages (from jsonschema[format-nongpl]>=4.18.0->jupyter-events>=0.11.0->jupyter-server<3,>=2.4.0->jupyterlab>=3->nglview) (1.3.0)\n",
      "Requirement already satisfied: webcolors>=24.6.0 in /opt/anaconda3/lib/python3.13/site-packages (from jsonschema[format-nongpl]>=4.18.0->jupyter-events>=0.11.0->jupyter-server<3,>=2.4.0->jupyterlab>=3->nglview) (24.11.1)\n",
      "Requirement already satisfied: beautifulsoup4 in /opt/anaconda3/lib/python3.13/site-packages (from nbconvert>=6.4.4->jupyter-server<3,>=2.4.0->jupyterlab>=3->nglview) (4.12.3)\n",
      "Requirement already satisfied: bleach!=5.0.0 in /opt/anaconda3/lib/python3.13/site-packages (from bleach[css]!=5.0.0->nbconvert>=6.4.4->jupyter-server<3,>=2.4.0->jupyterlab>=3->nglview) (6.2.0)\n",
      "Requirement already satisfied: defusedxml in /opt/anaconda3/lib/python3.13/site-packages (from nbconvert>=6.4.4->jupyter-server<3,>=2.4.0->jupyterlab>=3->nglview) (0.7.1)\n",
      "Requirement already satisfied: jupyterlab-pygments in /opt/anaconda3/lib/python3.13/site-packages (from nbconvert>=6.4.4->jupyter-server<3,>=2.4.0->jupyterlab>=3->nglview) (0.3.0)\n",
      "Requirement already satisfied: mistune<4,>=2.0.3 in /opt/anaconda3/lib/python3.13/site-packages (from nbconvert>=6.4.4->jupyter-server<3,>=2.4.0->jupyterlab>=3->nglview) (3.1.2)\n",
      "Requirement already satisfied: nbclient>=0.5.0 in /opt/anaconda3/lib/python3.13/site-packages (from nbconvert>=6.4.4->jupyter-server<3,>=2.4.0->jupyterlab>=3->nglview) (0.10.2)\n",
      "Requirement already satisfied: pandocfilters>=1.4.1 in /opt/anaconda3/lib/python3.13/site-packages (from nbconvert>=6.4.4->jupyter-server<3,>=2.4.0->jupyterlab>=3->nglview) (1.5.0)\n",
      "Requirement already satisfied: webencodings in /opt/anaconda3/lib/python3.13/site-packages (from bleach!=5.0.0->bleach[css]!=5.0.0->nbconvert>=6.4.4->jupyter-server<3,>=2.4.0->jupyterlab>=3->nglview) (0.5.1)\n",
      "Requirement already satisfied: tinycss2<1.5,>=1.1.0 in /opt/anaconda3/lib/python3.13/site-packages (from bleach[css]!=5.0.0->nbconvert>=6.4.4->jupyter-server<3,>=2.4.0->jupyterlab>=3->nglview) (1.4.0)\n",
      "Requirement already satisfied: fastjsonschema>=2.15 in /opt/anaconda3/lib/python3.13/site-packages (from nbformat>=5.3.0->jupyter-server<3,>=2.4.0->jupyterlab>=3->nglview) (2.20.0)\n",
      "Requirement already satisfied: ptyprocess>=0.5 in /opt/anaconda3/lib/python3.13/site-packages (from pexpect>4.3->ipython>=6.1.0->ipywidgets>=8->nglview) (0.7.0)\n",
      "Requirement already satisfied: six>=1.5 in /opt/anaconda3/lib/python3.13/site-packages (from python-dateutil>=2.8.2->jupyter-client>=7.4.4->jupyter-server<3,>=2.4.0->jupyterlab>=3->nglview) (1.17.0)\n",
      "Requirement already satisfied: charset-normalizer<4,>=2 in /opt/anaconda3/lib/python3.13/site-packages (from requests>=2.31->jupyterlab-server<3,>=2.27.1->jupyterlab>=3->nglview) (3.3.2)\n",
      "Requirement already satisfied: urllib3<3,>=1.21.1 in /opt/anaconda3/lib/python3.13/site-packages (from requests>=2.31->jupyterlab-server<3,>=2.27.1->jupyterlab>=3->nglview) (2.3.0)\n",
      "Requirement already satisfied: cffi>=1.0.1 in /opt/anaconda3/lib/python3.13/site-packages (from argon2-cffi-bindings->argon2-cffi>=21.1->jupyter-server<3,>=2.4.0->jupyterlab>=3->nglview) (1.17.1)\n",
      "Requirement already satisfied: pycparser in /opt/anaconda3/lib/python3.13/site-packages (from cffi>=1.0.1->argon2-cffi-bindings->argon2-cffi>=21.1->jupyter-server<3,>=2.4.0->jupyterlab>=3->nglview) (2.21)\n",
      "Requirement already satisfied: soupsieve>1.2 in /opt/anaconda3/lib/python3.13/site-packages (from beautifulsoup4->nbconvert>=6.4.4->jupyter-server<3,>=2.4.0->jupyterlab>=3->nglview) (2.5)\n",
      "Requirement already satisfied: arrow>=0.15.0 in /opt/anaconda3/lib/python3.13/site-packages (from isoduration->jsonschema[format-nongpl]>=4.18.0->jupyter-events>=0.11.0->jupyter-server<3,>=2.4.0->jupyterlab>=3->nglview) (1.3.0)\n",
      "Requirement already satisfied: executing in /opt/anaconda3/lib/python3.13/site-packages (from stack-data->ipython>=6.1.0->ipywidgets>=8->nglview) (0.8.3)\n",
      "Requirement already satisfied: asttokens in /opt/anaconda3/lib/python3.13/site-packages (from stack-data->ipython>=6.1.0->ipywidgets>=8->nglview) (3.0.0)\n",
      "Requirement already satisfied: pure-eval in /opt/anaconda3/lib/python3.13/site-packages (from stack-data->ipython>=6.1.0->ipywidgets>=8->nglview) (0.2.2)\n",
      "Requirement already satisfied: pandas in /opt/anaconda3/lib/python3.13/site-packages (2.2.3)\n",
      "Requirement already satisfied: numpy>=1.26.0 in /opt/anaconda3/lib/python3.13/site-packages (from pandas) (2.1.3)\n",
      "Requirement already satisfied: python-dateutil>=2.8.2 in /opt/anaconda3/lib/python3.13/site-packages (from pandas) (2.9.0.post0)\n",
      "Requirement already satisfied: pytz>=2020.1 in /opt/anaconda3/lib/python3.13/site-packages (from pandas) (2024.1)\n",
      "Requirement already satisfied: tzdata>=2022.7 in /opt/anaconda3/lib/python3.13/site-packages (from pandas) (2025.2)\n",
      "Requirement already satisfied: six>=1.5 in /opt/anaconda3/lib/python3.13/site-packages (from python-dateutil>=2.8.2->pandas) (1.17.0)\n",
      "Requirement already satisfied: mdtraj in /opt/anaconda3/lib/python3.13/site-packages (1.11.0)\n",
      "Requirement already satisfied: numpy<3,>=1.25.0 in /opt/anaconda3/lib/python3.13/site-packages (from mdtraj) (2.1.3)\n",
      "Requirement already satisfied: scipy in /opt/anaconda3/lib/python3.13/site-packages (from mdtraj) (1.15.3)\n",
      "Requirement already satisfied: pyparsing in /opt/anaconda3/lib/python3.13/site-packages (from mdtraj) (3.2.0)\n",
      "Requirement already satisfied: packaging in /opt/anaconda3/lib/python3.13/site-packages (from mdtraj) (24.2)\n"
     ]
    },
    {
     "data": {
      "application/vnd.jupyter.widget-view+json": {
       "model_id": "73ebb2d0e08e489abbf8321344c12957",
       "version_major": 2,
       "version_minor": 0
      },
      "text/plain": []
     },
     "metadata": {},
     "output_type": "display_data"
    }
   ],
   "source": [
    "!pip install nglview\n",
    "!pip install pandas\n",
    "!pip install mdtraj\n",
    "\n",
    "#import the packages\n",
    "import nglview as ng\n",
    "import pandas as pd\n",
    "import mdtraj as md"
   ]
  },
  {
   "cell_type": "code",
   "execution_count": 2,
   "id": "73388ba3-0fc6-4912-82f2-4db4d8396e86",
   "metadata": {},
   "outputs": [
    {
     "name": "stdout",
     "output_type": "stream",
     "text": [
      "/Users/emmamorris/Desktop/HADDOCK/MgCl2/Data\n"
     ]
    }
   ],
   "source": [
    "# %cd /home/emmmb/jupyter-env/docking/data ## For PC\n",
    "\n",
    "%cd /Users/emmamorris/Desktop/HADDOCK/MgCl2/Data"
   ]
  },
  {
   "cell_type": "code",
   "execution_count": 3,
   "id": "7fa2c03d-188a-451c-8b33-f318226d7f0c",
   "metadata": {},
   "outputs": [
    {
     "name": "stdout",
     "output_type": "stream",
     "text": [
      "#cluster5_1_processed.gro.1#  \u001b[34mInput\u001b[m\u001b[m/\n",
      "#final_ions.gro.1#            aptamer_box.gro\n",
      "#ions_nacl.tpr.1#             aptamer_processed.gro\n",
      "#ions_nacl.tpr.2#             cluster5_1_processed.gro\n",
      "#posre.itp.1#                 final_ions.gro\n",
      "#posre.itp.2#                 ions.mdp\n",
      "#topol.top.1#                 ions.tpr\n",
      "#topol.top.2#                 ions_nacl.tpr\n",
      "#topol.top.3#                 mdout.mdp\n",
      "#topol.top.4#                 minim.mdp\n",
      "#topol.top.5#                 nvt.mdp\n",
      "#topol.top.6#                 posre.itp\n",
      "CD63_aptamer.pdb              solv_mg.gro\n",
      "CD63_protein.pdb              solvated.gro\n",
      "CD63_tmp.pdb                  topol.top\n"
     ]
    }
   ],
   "source": [
    "%ls"
   ]
  },
  {
   "cell_type": "code",
   "execution_count": 4,
   "id": "d28d758e-0cfe-4315-955f-2371df1ff4c7",
   "metadata": {},
   "outputs": [
    {
     "ename": "ValueError",
     "evalue": "you must provide file extension if using file-like object or text content",
     "output_type": "error",
     "traceback": [
      "\u001b[0;31m---------------------------------------------------------------------------\u001b[0m",
      "\u001b[0;31mValueError\u001b[0m                                Traceback (most recent call last)",
      "Cell \u001b[0;32mIn[4], line 1\u001b[0m\n\u001b[0;32m----> 1\u001b[0m view \u001b[38;5;241m=\u001b[39m ng\u001b[38;5;241m.\u001b[39mshow_structure_file(\u001b[38;5;124m\"\u001b[39m\u001b[38;5;124mInput/CD63_Xiao_14072025.pdb\u001b[39m\u001b[38;5;124m\"\u001b[39m)\n\u001b[1;32m      2\u001b[0m view\n",
      "File \u001b[0;32m/opt/anaconda3/lib/python3.13/site-packages/nglview/show.py:216\u001b[0m, in \u001b[0;36mshow_structure_file\u001b[0;34m(path, **kwargs)\u001b[0m\n\u001b[1;32m    205\u001b[0m \u001b[38;5;28;01mdef\u001b[39;00m\u001b[38;5;250m \u001b[39m\u001b[38;5;21mshow_structure_file\u001b[39m(path, \u001b[38;5;241m*\u001b[39m\u001b[38;5;241m*\u001b[39mkwargs):\n\u001b[1;32m    206\u001b[0m \u001b[38;5;250m    \u001b[39m\u001b[38;5;124;03m'''Show structure file. Allowed are text-based structure\u001b[39;00m\n\u001b[1;32m    207\u001b[0m \u001b[38;5;124;03m    file formats that are by supported by NGL, including pdb,\u001b[39;00m\n\u001b[1;32m    208\u001b[0m \u001b[38;5;124;03m    gro, mol2, sdf.\u001b[39;00m\n\u001b[0;32m   (...)\u001b[0m\n\u001b[1;32m    214\u001b[0m \u001b[38;5;124;03m    >>> w # doctest: +SKIP\u001b[39;00m\n\u001b[1;32m    215\u001b[0m \u001b[38;5;124;03m    '''\u001b[39;00m\n\u001b[0;32m--> 216\u001b[0m     structure \u001b[38;5;241m=\u001b[39m FileStructure(path)\n\u001b[1;32m    217\u001b[0m     \u001b[38;5;28;01mreturn\u001b[39;00m NGLWidget(structure, \u001b[38;5;241m*\u001b[39m\u001b[38;5;241m*\u001b[39mkwargs)\n",
      "File \u001b[0;32m/opt/anaconda3/lib/python3.13/site-packages/nglview/adaptor.py:80\u001b[0m, in \u001b[0;36mFileStructure.__init__\u001b[0;34m(self, path)\u001b[0m\n\u001b[1;32m     78\u001b[0m \u001b[38;5;28msuper\u001b[39m()\u001b[38;5;241m.\u001b[39m\u001b[38;5;21m__init__\u001b[39m()\n\u001b[1;32m     79\u001b[0m \u001b[38;5;28mself\u001b[39m\u001b[38;5;241m.\u001b[39mfm \u001b[38;5;241m=\u001b[39m FileManager(path)\n\u001b[0;32m---> 80\u001b[0m \u001b[38;5;28mself\u001b[39m\u001b[38;5;241m.\u001b[39mext \u001b[38;5;241m=\u001b[39m \u001b[38;5;28mself\u001b[39m\u001b[38;5;241m.\u001b[39mfm\u001b[38;5;241m.\u001b[39mext\n\u001b[1;32m     81\u001b[0m \u001b[38;5;28mself\u001b[39m\u001b[38;5;241m.\u001b[39mparams \u001b[38;5;241m=\u001b[39m {}\n\u001b[1;32m     82\u001b[0m \u001b[38;5;28mself\u001b[39m\u001b[38;5;241m.\u001b[39mpath \u001b[38;5;241m=\u001b[39m path\n",
      "File \u001b[0;32m/opt/anaconda3/lib/python3.13/site-packages/nglview/utils/py_utils.py:242\u001b[0m, in \u001b[0;36mFileManager.ext\u001b[0;34m(self)\u001b[0m\n\u001b[1;32m    239\u001b[0m \u001b[38;5;28;01melse\u001b[39;00m:\n\u001b[1;32m    240\u001b[0m     \u001b[38;5;28;01mif\u001b[39;00m \u001b[38;5;28mhasattr\u001b[39m(\u001b[38;5;28mself\u001b[39m\u001b[38;5;241m.\u001b[39msrc, \u001b[38;5;124m'\u001b[39m\u001b[38;5;124mread\u001b[39m\u001b[38;5;124m'\u001b[39m) \u001b[38;5;129;01mor\u001b[39;00m (\u001b[38;5;129;01mnot\u001b[39;00m \u001b[38;5;28mself\u001b[39m\u001b[38;5;241m.\u001b[39mis_filename \u001b[38;5;129;01mand\u001b[39;00m\n\u001b[1;32m    241\u001b[0m                                      \u001b[38;5;129;01mnot\u001b[39;00m \u001b[38;5;28mself\u001b[39m\u001b[38;5;241m.\u001b[39mis_url):\n\u001b[0;32m--> 242\u001b[0m         \u001b[38;5;28;01mraise\u001b[39;00m \u001b[38;5;167;01mValueError\u001b[39;00m(\n\u001b[1;32m    243\u001b[0m             \u001b[38;5;124m\"\u001b[39m\u001b[38;5;124myou must provide file extension if using file-like object or text content\u001b[39m\u001b[38;5;124m\"\u001b[39m\n\u001b[1;32m    244\u001b[0m         )\n\u001b[1;32m    245\u001b[0m     \u001b[38;5;28;01mif\u001b[39;00m \u001b[38;5;28mself\u001b[39m\u001b[38;5;241m.\u001b[39mis_compressed:\n\u001b[1;32m    246\u001b[0m         \u001b[38;5;28;01mreturn\u001b[39;00m \u001b[38;5;28mself\u001b[39m\u001b[38;5;241m.\u001b[39msrc\u001b[38;5;241m.\u001b[39msplit(\u001b[38;5;124m'\u001b[39m\u001b[38;5;124m.\u001b[39m\u001b[38;5;124m'\u001b[39m)[\u001b[38;5;241m-\u001b[39m\u001b[38;5;241m2\u001b[39m]\n",
      "\u001b[0;31mValueError\u001b[0m: you must provide file extension if using file-like object or text content"
     ]
    }
   ],
   "source": [
    "view = ng.show_structure_file(\"Input/CD63_Xiao_14072025.pdb\")\n",
    "view"
   ]
  },
  {
   "cell_type": "code",
   "execution_count": null,
   "id": "9ed3c2fb-9d67-4971-96d0-cec3ead23c4d",
   "metadata": {},
   "outputs": [],
   "source": [
    "!grep -v HETATM Input/CD63_Xiao_14072025.pdb > CD63_tmp.pdb\n",
    "!grep -v CONECT CD63_tmp.pdb > CD63_aptamer.pdb"
   ]
  },
  {
   "cell_type": "code",
   "execution_count": null,
   "id": "bc362e8c-bddb-4b20-8b49-de590ebce683",
   "metadata": {},
   "outputs": [],
   "source": [
    "view = ng.show_structure_file(\"CD63_aptamer.pdb\")\n",
    "view"
   ]
  },
  {
   "cell_type": "code",
   "execution_count": null,
   "id": "201479ca-740a-42a5-be6f-e980e4c31381",
   "metadata": {
    "scrolled": true
   },
   "outputs": [],
   "source": [
    "!gmx pdb2gmx -f CD63_protein.pdb -o aptamer_processed.gro -p topol.top -water tip3p -ff amber99sb-ildn -ignh"
   ]
  },
  {
   "cell_type": "code",
   "execution_count": null,
   "id": "1c966156-4a62-48f7-a66f-c14a900349ce",
   "metadata": {},
   "outputs": [],
   "source": [
    "!ls"
   ]
  },
  {
   "cell_type": "code",
   "execution_count": null,
   "id": "98bf7568-3fe3-479a-913b-cdaf21a62e40",
   "metadata": {
    "scrolled": true
   },
   "outputs": [],
   "source": [
    "!gmx editconf -f aptamer_processed.gro -o aptamer_box.gro -c -d 1.0 -bt dodecahedron"
   ]
  },
  {
   "cell_type": "code",
   "execution_count": null,
   "id": "4c6e272c-99c1-4475-b7b6-eba421505695",
   "metadata": {
    "scrolled": true
   },
   "outputs": [],
   "source": [
    "!gmx solvate -cp aptamer_box.gro -cs spc216.gro -o solvated.gro -p topol.top"
   ]
  },
  {
   "cell_type": "code",
   "execution_count": null,
   "id": "0ed5abec-f27d-41e4-bcdf-e1125758bed2",
   "metadata": {},
   "outputs": [],
   "source": [
    "!touch ions.mdp"
   ]
  },
  {
   "cell_type": "code",
   "execution_count": null,
   "id": "d5bb49ee-9329-4359-a642-f02a0e01556e",
   "metadata": {
    "scrolled": true
   },
   "outputs": [],
   "source": [
    "!gmx grompp -f ions.mdp -c solvated.gro -p topol.top -o ions.tpr"
   ]
  },
  {
   "cell_type": "code",
   "execution_count": null,
   "id": "5addcd54-6198-4f18-a544-73510e9cc6f2",
   "metadata": {
    "scrolled": true
   },
   "outputs": [],
   "source": [
    "!printf \"SOL\\n\" | gmx genion -s ions.tpr -o solv_mg.gro -p topol.top -pname MG -nname CL -conc 0.005 -neutral\n"
   ]
  },
  {
   "cell_type": "code",
   "execution_count": null,
   "id": "fc89a8ae-fe6c-40ae-b79c-1ed31e466655",
   "metadata": {
    "scrolled": true
   },
   "outputs": [],
   "source": [
    "!gmx grompp -f ions.mdp -c solv_mg.gro -p topol.top -o ions_nacl.tpr\n",
    "\n",
    "!printf \"SOL\\n\" | gmx genion -s ions_nacl.tpr -o final_ions.gro -p topol.top -pname NA -nname CL -conc 0.14\n"
   ]
  },
  {
   "cell_type": "code",
   "execution_count": null,
   "id": "bad42f14-3f82-47ab-98e6-823f3811f030",
   "metadata": {},
   "outputs": [],
   "source": [
    "view = ng.show_structure_file(\"solvated.gro\")\n",
    "view.add_representation(repr_type='ball+stick', selection='SOL')\n",
    "view.camera='orthographic'\n",
    "view"
   ]
  },
  {
   "cell_type": "code",
   "execution_count": null,
   "id": "65973d70-1e84-4f52-a352-4df0a48b8e9a",
   "metadata": {},
   "outputs": [],
   "source": [
    "# Load gromacs file\n",
    "view = ng.show_structure_file(\"final_ions.gro\")\n",
    "\n",
    "# Represent ions clearly\n",
    "view.add_representation(repr_type='spacefill', selection='NA', color='blue')\n",
    "view.add_representation(repr_type='spacefill', selection='CL', color='green')\n",
    "view.add_representation(repr_type='spacefill', selection='MG', color='red')\n",
    "\n",
    "# Represent water as ball+stick\n",
    "view.add_representation(repr_type='ball+stick', selection='SOL')\n",
    "\n",
    "# Show aptamer as cartoon or licorice if desired\n",
    "view.add_representation(repr_type='cartoon', selection='nucleic')\n",
    "\n",
    "# Set camera\n",
    "view.camera='orthographic'\n",
    "\n",
    "view"
   ]
  },
  {
   "cell_type": "markdown",
   "id": "cb8d08b3-8e33-4438-b7c2-86d6faae3f74",
   "metadata": {},
   "source": [
    "## Energy minimisation"
   ]
  },
  {
   "cell_type": "code",
   "execution_count": null,
   "id": "f95a37ae-ce06-43bb-a0c3-9d78f3f374ba",
   "metadata": {},
   "outputs": [],
   "source": [
    "with open(\"minim.mdp\", \"w\") as f:\n",
    "    f.write(\"\"\"\n",
    "; minim.mdp - Parameters for energy minimization\n",
    "\n",
    "integrator    = steep       ; Algorithm (steepest descent minimization)\n",
    "emtol         = 1000.0      ; Stop minimization when max force < 1000.0 kJ/mol/nm\n",
    "emstep        = 0.01        ; Initial step-size\n",
    "nsteps        = 50000       ; Maximum number of minimization steps\n",
    "\n",
    "cutoff-scheme = Verlet\n",
    "nstlist       = 10\n",
    "ns_type       = grid\n",
    "rlist         = 1.2\n",
    "rcoulomb      = 1.2\n",
    "rvdw          = 1.2\n",
    "\n",
    "coulombtype   = PME         ; Particle Mesh Ewald for long-range electrostatics\n",
    "pbc           = xyz         ; Periodic boundary conditions in all directions\n",
    "constraints   = none        ; No constraints during minimization\n",
    "\"\"\")"
   ]
  },
  {
   "cell_type": "code",
   "execution_count": null,
   "id": "3a7f52ec-7caa-4e21-b6f9-d1602430ea76",
   "metadata": {},
   "outputs": [],
   "source": [
    "!gmx grompp -f minim.mdp -c final_ions.gro -p topol.top -o em.tpr\n",
    "!gmx mdrun -deffnm em -v"
   ]
  },
  {
   "cell_type": "code",
   "execution_count": null,
   "id": "02d7c7c3-29b0-4354-b2de-a9989241b26d",
   "metadata": {},
   "outputs": [],
   "source": [
    "!printf \"potential\\n0\\n\" | gmx energy -f em.edr -o potential.xvg -xvg none"
   ]
  },
  {
   "cell_type": "code",
   "execution_count": null,
   "id": "05ee3ebd-8e1c-44fb-be0d-9bb7f0cd40d5",
   "metadata": {},
   "outputs": [],
   "source": [
    "df = pd.read_csv('potential.xvg', sep='\\\\s+', header=None, names=['step', 'energy])\n",
    "df.plot('step')                                                                  "
   ]
  },
  {
   "cell_type": "markdown",
   "id": "ec092cd5-843f-46a1-821a-3e9683273246",
   "metadata": {},
   "source": [
    " ## NVT (temperature) equilibration"
   ]
  },
  {
   "cell_type": "code",
   "execution_count": null,
   "id": "9f2619cb-37eb-4354-ba1d-16e1843f75a4",
   "metadata": {},
   "outputs": [],
   "source": [
    "with open(\"nvt.mdp\", \"w\") as f:\n",
    "    f.write(\"\"\"\n",
    "; NVT equilibration for aptamer\n",
    "title                    = NVT equilibration\n",
    "define                   = -DPOSRES        ; position restraints (optional)\n",
    "integrator               = md              ; leap-frog integrator\n",
    "nsteps                   = 50000           ; 100 ps if timestep is 2 fs\n",
    "dt                       = 0.002           ; 2 fs\n",
    "\n",
    "; Output control\n",
    "nstxout                  = 1000\n",
    "nstvout                  = 1000\n",
    "nstenergy                = 500\n",
    "nstlog                   = 500\n",
    "nstxout-compressed       = 1000\n",
    "\n",
    "; Bond parameters\n",
    "continuation             = no              ; starting fresh from minimization\n",
    "constraint_algorithm     = lincs\n",
    "constraints              = h-bonds\n",
    "lincs_iter               = 1\n",
    "lincs_order              = 4\n",
    "\n",
    "; Neighbor searching\n",
    "cutoff-scheme            = Verlet\n",
    "ns_type                  = grid\n",
    "nstlist                  = 10\n",
    "rcoulomb                 = 1.0\n",
    "rvdw                     = 1.0\n",
    "\n",
    "; Electrostatics\n",
    "coulombtype              = PME\n",
    "pme_order                = 4\n",
    "fourierspacing           = 0.16\n",
    "\n",
    "; Temperature coupling is on\n",
    "tcoupl                   = V-rescale                     ; modified Berendsen thermostat\n",
    "tc-grps                  = System\n",
    "tau_t                    = 0.1\n",
    "ref_t                    = 300\n",
    "\n",
    "; Pressure coupling is off during NVT\n",
    "pcoupl                   = no\n",
    "\n",
    "; Periodic boundary conditions\n",
    "pbc                      = xyz\n",
    "\n",
    "; Dispersion correction\n",
    "DispCorr                 = EnerPres\n",
    "\n",
    "; Velocity generation\n",
    "gen_vel                  = yes\n",
    "gen_temp                 = 300\n",
    "gen_seed                 = -1\n",
    "\"\"\")"
   ]
  },
  {
   "cell_type": "code",
   "execution_count": null,
   "id": "d77d0729-bf6e-4f28-9937-187fa0b6d3cc",
   "metadata": {},
   "outputs": [],
   "source": [
    "!gmx grompp -f nvt.mdp -c em.gro -r em.gro -p topol.top -o nvt.tpr\n",
    "!gmx mdrun -deffnm nvt"
   ]
  },
  {
   "cell_type": "markdown",
   "id": "40e712c5-0580-4668-a9a7-3334d046ae81",
   "metadata": {},
   "source": [
    "Analyse NVT Equil"
   ]
  },
  {
   "cell_type": "code",
   "execution_count": null,
   "id": "e3284755-c9d6-4fd3-bb80-3622cc95a698",
   "metadata": {},
   "outputs": [],
   "source": [
    "!echo \"Temperature\" | gmx energy -f nvt.edr -o temperature.xvg -xvg none -b 20"
   ]
  },
  {
   "cell_type": "code",
   "execution_count": null,
   "id": "cb670e9c-439d-44b0-8b57-0ab8d6042a95",
   "metadata": {},
   "outputs": [],
   "source": [
    "df = pd.read_csv('temperature.xvg', sep='\\\\s+', header=None, names=['time','temperature'])\n",
    "df.plot('time')"
   ]
  },
  {
   "cell_type": "markdown",
   "id": "16557996-f8c3-4a53-b346-05d08b398d21",
   "metadata": {},
   "source": [
    "## Pressure - NPT Equil (100 ps)"
   ]
  },
  {
   "cell_type": "code",
   "execution_count": null,
   "id": "8b01c825-b235-4e27-a9f7-d1da2ddd9468",
   "metadata": {},
   "outputs": [],
   "source": [
    "with open(\"npt.mdp\", \"w\") as f:\n",
    "    f.write(\"\"\"\n",
    "; title                    = NPT equilibration\n",
    "define                   = -DPOSRES        ; Position restraints for solute\n",
    "integrator               = md\n",
    "dt                       = 0.002           ; 2 fs time step\n",
    "nsteps                   = 50000           ; 100 ps\n",
    "refcoord_scaling = com\n",
    "\n",
    "; Output control\n",
    "nstxout                  = 1000\n",
    "nstvout                  = 1000\n",
    "nstenergy                = 1000\n",
    "nstlog                   = 1000\n",
    "\n",
    "; Bond parameters\n",
    "continuation             = yes             ; Continue from NVT\n",
    "constraint_algorithm     = lincs\n",
    "constraints              = h-bonds\n",
    "lincs_iter               = 1\n",
    "lincs_order              = 4\n",
    "\n",
    "; Neighborsearching\n",
    "cutoff-scheme            = Verlet\n",
    "ns_type                  = grid\n",
    "nstlist                  = 10\n",
    "rcoulomb                 = 1.0\n",
    "rvdw                     = 1.0\n",
    "\n",
    "; Electrostatics\n",
    "coulombtype              = PME\n",
    "pme_order                = 4\n",
    "fourierspacing           = 0.16\n",
    "\n",
    "; Temperature coupling\n",
    "tcoupl                   = V-rescale\n",
    "tc-grps                  = System\n",
    "tau_t                    = 0.1\n",
    "ref_t                    = 300\n",
    "\n",
    "; Pressure coupling\n",
    "pcoupl                   = Parrinello-Rahman\n",
    "pcoupltype               = isotropic\n",
    "tau_p                    = 2.0\n",
    "ref_p                    = 1.0\n",
    "compressibility          = 4.5e-5\n",
    "\n",
    "; Velocity generation\n",
    "gen_vel                  = no              ; Keep velocities from NVT\n",
    "\"\"\")"
   ]
  },
  {
   "cell_type": "code",
   "execution_count": null,
   "id": "3438e574-dadc-4ba5-9af1-51505812df21",
   "metadata": {},
   "outputs": [],
   "source": [
    "!gmx grompp -f npt.mdp -c nvt.gro -r nvt.gro -t nvt.cpt -p topol.top -o npt.tpr\n",
    "!gmx mdrun -deffnm npt"
   ]
  },
  {
   "cell_type": "markdown",
   "id": "e3fa40e8-ec17-4f76-a47f-9da78ed14fec",
   "metadata": {},
   "source": [
    "Visualise results"
   ]
  },
  {
   "cell_type": "code",
   "execution_count": null,
   "id": "fbafbae4-b2c6-407a-8da5-7af11b8f5bcf",
   "metadata": {},
   "outputs": [],
   "source": [
    "!echo \"Pressure\" | gmx energy -f npt.edr -o pressure.xvg -xvg none"
   ]
  },
  {
   "cell_type": "code",
   "execution_count": null,
   "id": "72b16d86-b6ce-4ed5-8b9c-ab19687b9591",
   "metadata": {},
   "outputs": [],
   "source": [
    "df = pd.read_csv('pressure.xvg', sep='\\\\s+', header=None, names=['time','pressure'])\n",
    "df.plot('time')"
   ]
  },
  {
   "cell_type": "markdown",
   "id": "cdbaefad-828e-4a56-8f7d-9114ff89a37e",
   "metadata": {},
   "source": [
    "# Production run (50 ns) THE BIG ONE"
   ]
  },
  {
   "cell_type": "code",
   "execution_count": null,
   "id": "c9a2b5d8-28c0-475a-a612-8268ceaa3eba",
   "metadata": {},
   "outputs": [],
   "source": [
    "with open(\"md.mdp\", \"w\") as f:\n",
    "    f.write(\"\"\"\n",
    "; title                    = Production MD\n",
    "integrator               = md\n",
    "dt                       = 0.002              ; 2 fs\n",
    "nsteps                   = 25000000         ; 50 ns = 50,000 ps / 0.002 ps = 25,000,000 steps\n",
    "\n",
    "; Output control\n",
    "nstxout                  = 10000              ; write coordinates every 20 ps\n",
    "nstvout                  = 0                  ; don't write velocities\n",
    "nstenergy                = 1000               ; write energies every 2 ps\n",
    "nstlog                   = 1000               ; write to log every 2 ps\n",
    "nstxout-compressed       = 1000               ; compressed trajectory output\n",
    "\n",
    "; Bond parameters\n",
    "continuation             = yes\n",
    "constraint_algorithm     = lincs\n",
    "constraints              = h-bonds\n",
    "lincs_iter               = 1\n",
    "lincs_order              = 4\n",
    "\n",
    "; Neighborsearching\n",
    "cutoff-scheme            = Verlet\n",
    "nstlist                  = 10\n",
    "rcoulomb                 = 1.0\n",
    "rvdw                     = 1.0\n",
    "\n",
    "; Electrostatics\n",
    "coulombtype              = PME\n",
    "pme_order                = 4\n",
    "fourierspacing           = 0.16\n",
    "\n",
    "; Temperature coupling\n",
    "tcoupl                   = V-rescale\n",
    "tc-grps                  = System\n",
    "tau_t                    = 0.1\n",
    "ref_t                    = 300\n",
    "\n",
    "; Pressure coupling\n",
    "pcoupl                   = Parrinello-Rahman\n",
    "pcoupltype               = isotropic\n",
    "tau_p                    = 2.0\n",
    "ref_p                    = 1.0\n",
    "compressibility          = 4.5e-5\n",
    "\n",
    "; Velocity generation\n",
    "gen_vel                  = no                 ; velocities come from equilibration\n",
    "\"\"\")"
   ]
  },
  {
   "cell_type": "code",
   "execution_count": null,
   "id": "417e0feb-991b-41ad-8f42-67e7ca7fcda1",
   "metadata": {},
   "outputs": [],
   "source": [
    "!gmx grompp -f md.mdp -c npt.gro -t npt.cpt -p topol.top -o md.tpr\n",
    "!gmx mdrun -v -deffnm md"
   ]
  },
  {
   "cell_type": "markdown",
   "id": "6dc0389b-3990-4424-8231-3be0927cc2d5",
   "metadata": {},
   "source": [
    "# Analysing final folded aptamer"
   ]
  },
  {
   "cell_type": "code",
   "execution_count": null,
   "id": "42edf874-80e8-417b-8af0-322a88da55d8",
   "metadata": {},
   "outputs": [],
   "source": [
    "#echo \"1 1\"\n",
    "!printf \"1\\n1\\n\" | gmx trjconv -s md.tpr -f md.xtc -o md_center.xtc -center -pbc mol"
   ]
  },
  {
   "cell_type": "code",
   "execution_count": null,
   "id": "67de476d-5b22-4f93-8acf-735a87cc2492",
   "metadata": {},
   "outputs": [],
   "source": [
    "### Tutorial ###\n",
    "# traj = md.load(\"md_center.xtc\", top=\"md.gro\") ### THIS WORKS - missing aptamer\n",
    "traj = md.load(\"md_center.xtc\", top=\"aptamer_box.gro\")\n",
    "view = ng.show_mdtraj(traj)\n",
    "view"
   ]
  },
  {
   "cell_type": "code",
   "execution_count": null,
   "id": "35108be0-ebd7-415a-9d9c-4fa88164e433",
   "metadata": {},
   "outputs": [],
   "source": [
    "traj = md.load(\"md_center.xtc\", top=\"aptamer_box.gro\")\n",
    "view = ng.show_mdtraj(traj)\n",
    "view.clear_representations()\n",
    "view.add_cartoon(selection=\"protein\")     # Protein cartoon\n",
    "view.add_licorice(selection=\"nucleic\")    # Aptamer backbone in full\n",
    "view.add_ball_and_stick(selection=\"not protein and not nucleic\")  # Everything else\n",
    "view"
   ]
  },
  {
   "cell_type": "markdown",
   "id": "2445a1aa-efb1-4535-9bf3-88ad154ce292",
   "metadata": {},
   "source": [
    "## RMSD Overtime"
   ]
  },
  {
   "cell_type": "code",
   "execution_count": null,
   "id": "0e07c45c-450c-4674-9784-86888a3e6bc4",
   "metadata": {},
   "outputs": [],
   "source": [
    "import mdtraj as md\n",
    "import matplotlib.pyplot as plt\n",
    "\n",
    "# Load the trajectory\n",
    "traj = md.load(\"md_center.xtc\", top=\"aptamer_box.gro\")\n",
    "\n",
    "# Manually filter for RNA backbone atoms (P, C4', C3', O3')\n",
    "backbone_atom_names = [\"P\", \"C4'\", \"C3'\", \"O3'\"]\n",
    "\n",
    "# Get indices of backbone atoms that belong to standard nucleotide residues\n",
    "rna_bb = [atom.index for atom in traj.topology.atoms\n",
    "          if atom.name in backbone_atom_names and atom.residue.is_nucleic]\n",
    "\n",
    "# Align to the first frame using RNA backbone atoms\n",
    "traj.superpose(traj[0], atom_indices=rna_bb)\n",
    "\n",
    "# Calculate RMSD\n",
    "rmsd = md.rmsd(traj, traj, 0, atom_indices=rna_bb)\n",
    "\n",
    "# Plot\n",
    "plt.plot(traj.time / 1000, rmsd)\n",
    "plt.xlabel(\"Time (ns)\")\n",
    "plt.ylabel(\"RMSD (nm)\")\n",
    "plt.title(\"Aptamer Backbone RMSD\")\n",
    "plt.grid(True)\n",
    "plt.show()"
   ]
  },
  {
   "cell_type": "markdown",
   "id": "46871a0e-14b6-4744-9506-7ea066ace91e",
   "metadata": {},
   "source": [
    "## H-bonding"
   ]
  },
  {
   "cell_type": "code",
   "execution_count": null,
   "id": "a2a0415e-9f86-45f7-ab64-06f9cff91fdc",
   "metadata": {},
   "outputs": [],
   "source": [
    "# Load trajectory (example, adjust as needed)\n",
    "# traj = md.load(\"trajectory.xtc\", top=\"topology.pdb\")\n",
    "\n",
    "# Select only nucleic acid atoms\n",
    "nucleic_atoms = traj.topology.select(\"nucleic\")\n",
    "\n",
    "# Compute all hydrogen bonds\n",
    "hbonds = md.baker_hubbard(traj, periodic=True)\n",
    "\n",
    "# Filter for only nucleic–nucleic hydrogen bonds\n",
    "nucleic_hbonds = [\n",
    "    hbond for hbond in hbonds\n",
    "    if hbond[0] in nucleic_atoms and hbond[2] in nucleic_atoms\n",
    "]\n",
    "\n",
    "print(f\"Nucleic–nucleic hydrogen bonds detected: {len(nucleic_hbonds)}\")\n",
    "\n",
    "# Print first few\n",
    "for hbond in nucleic_hbonds[:10]:\n",
    "    donor, hydrogen, acceptor = hbond\n",
    "    print(f\"Donor: {traj.topology.atom(donor)}, Acceptor: {traj.topology.atom(acceptor)}\")\n"
   ]
  },
  {
   "cell_type": "markdown",
   "id": "7685d95b-f18e-46de-a7a3-9003ab672f48",
   "metadata": {},
   "source": [
    "Lost and gained H-bonds"
   ]
  },
  {
   "cell_type": "code",
   "execution_count": null,
   "id": "d1c25905-8d8a-440b-8151-c7defa4e079d",
   "metadata": {},
   "outputs": [],
   "source": [
    "import mdtraj as md\n",
    "\n",
    "# Load trajectory\n",
    "#traj = md.load(\"trajectory.xtc\", top=\"aptamer_box.gro\")\n",
    "\n",
    "# Select only nucleic atoms\n",
    "nucleic_atoms = traj.topology.select(\"nucleic\")\n",
    "\n",
    "# Define frame indices\n",
    "frame_start = traj[0]\n",
    "frame_end = traj[-1]\n",
    "\n",
    "# Compute H-bonds for first and last frame\n",
    "hbonds_start = md.baker_hubbard(frame_start, periodic=True)\n",
    "hbonds_end = md.baker_hubbard(frame_end, periodic=True)\n",
    "\n",
    "# Filter: only nucleic-nucleic\n",
    "nuc_hbonds_start = set(\n",
    "    (d, a) for d, h, a in hbonds_start\n",
    "    if d in nucleic_atoms and a in nucleic_atoms\n",
    ")\n",
    "nuc_hbonds_end = set(\n",
    "    (d, a) for d, h, a in hbonds_end\n",
    "    if d in nucleic_atoms and a in nucleic_atoms\n",
    ")\n",
    "\n",
    "# Compare sets\n",
    "common = nuc_hbonds_start & nuc_hbonds_end\n",
    "lost = nuc_hbonds_start - nuc_hbonds_end\n",
    "gained = nuc_hbonds_end - nuc_hbonds_start\n",
    "\n",
    "print(f\"Initial nucleic–nucleic H-bonds: {len(nuc_hbonds_start)}\")\n",
    "print(f\"Final nucleic–nucleic H-bonds: {len(nuc_hbonds_end)}\")\n",
    "print(f\"Shared H-bonds: {len(common)}\")\n",
    "print(f\"Lost H-bonds: {len(lost)}\")\n",
    "print(f\"Gained H-bonds: {len(gained)}\\n\")\n",
    "\n",
    "# Optional: print actual donor–acceptor atom info\n",
    "def describe_hbonds(hbond_set, label):\n",
    "    print(f\"{label}:\")\n",
    "    for donor, acceptor in hbond_set:\n",
    "        print(f\"  Donor: {traj.topology.atom(donor)}, Acceptor: {traj.topology.atom(acceptor)}\")\n",
    "    print()\n",
    "\n",
    "describe_hbonds(lost, \"Lost H-bonds\")\n",
    "describe_hbonds(gained, \"Gained H-bonds\")"
   ]
  },
  {
   "cell_type": "markdown",
   "id": "cceb309c-a0e3-47c4-8f3d-67a737473644",
   "metadata": {},
   "source": [
    "H bonds pre run"
   ]
  },
  {
   "cell_type": "code",
   "execution_count": null,
   "id": "615c4c19-866f-4d02-9c01-034c05358ff9",
   "metadata": {},
   "outputs": [],
   "source": [
    "# Load only the first frame of the trajectory\n",
    "frame0 = md.load(\"md_center.xtc\", top=\"aptamer_box.gro\", frame=0)\n",
    "\n",
    "# Select nucleic atoms\n",
    "nucleic_atoms = frame0.topology.select(\"nucleic\")\n",
    "\n",
    "# Compute H-bonds for frame 0 only\n",
    "hbonds_start = md.baker_hubbard(frame0, periodic=True)\n",
    "\n",
    "# Filter nucleic–nucleic H-bonds\n",
    "nucleic_hbonds_start = [\n",
    "    hbond for hbond in hbonds_start\n",
    "    if hbond[0] in nucleic_atoms and hbond[2] in nucleic_atoms\n",
    "]\n",
    "\n",
    "print(f\"Nucleic–nucleic H-bonds at start: {len(nucleic_hbonds_start)}\")\n",
    "\n",
    "# Print some\n",
    "for donor, hydrogen, acceptor in nucleic_hbonds_start[:10]:\n",
    "    print(f\"Donor: {frame0.topology.atom(donor)}, Acceptor: {frame0.topology.atom(acceptor)}\")"
   ]
  },
  {
   "cell_type": "markdown",
   "id": "82ae3389-a2a6-47a3-8960-cb6d527b2d09",
   "metadata": {},
   "source": [
    "H bonds post run"
   ]
  },
  {
   "cell_type": "code",
   "execution_count": null,
   "id": "c091fca2-e648-4d51-b745-0b57787ec183",
   "metadata": {},
   "outputs": [],
   "source": [
    "import mdtraj as md\n",
    "\n",
    "# Load full trajectory\n",
    "traj = md.load(\"md_center.xtc\", top=\"aptamer_box.gro\")\n",
    "\n",
    "# Extract the last frame\n",
    "frame_end = traj[-1]\n",
    "\n",
    "# Select only nucleic acid atoms in the final frame\n",
    "nucleic_atoms_end = frame_end.topology.select(\"nucleic\")\n",
    "\n",
    "# Compute H-bonds in the final frame only\n",
    "hbonds_end = md.baker_hubbard(frame_end, periodic=True)\n",
    "\n",
    "# Filter nucleic–nucleic H-bonds\n",
    "nucleic_hbonds_end = [\n",
    "    hbond for hbond in hbonds_end\n",
    "    if hbond[0] in nucleic_atoms_end and hbond[2] in nucleic_atoms_end\n",
    "]\n",
    "\n",
    "print(f\"Nucleic–nucleic H-bonds at end: {len(nucleic_hbonds_end)}\")\n",
    "\n",
    "# Print first few\n",
    "for donor, hydrogen, acceptor in nucleic_hbonds_end[:10]:\n",
    "    print(f\"Donor: {frame_end.topology.atom(donor)}, Acceptor: {frame_end.topology.atom(acceptor)}\")\n"
   ]
  }
 ],
 "metadata": {
  "kernelspec": {
   "display_name": "Python [conda env:base] *",
   "language": "python",
   "name": "conda-base-py"
  },
  "language_info": {
   "codemirror_mode": {
    "name": "ipython",
    "version": 3
   },
   "file_extension": ".py",
   "mimetype": "text/x-python",
   "name": "python",
   "nbconvert_exporter": "python",
   "pygments_lexer": "ipython3",
   "version": "3.13.5"
  }
 },
 "nbformat": 4,
 "nbformat_minor": 5
}
